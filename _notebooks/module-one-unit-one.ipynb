{
 "cells": [
  {
   "cell_type": "markdown",
   "metadata": {},
   "source": [
    "# Data Science Example - Olympics\n",
    "\n",
    "Some visualizations of [statistics from the modern Olympic Games](https://www.kaggle.com/heesoo37/120-years-of-olympic-history-athletes-and-results/data#athlete_events.csv)."
   ]
  },
  {
   "cell_type": "code",
   "execution_count": null,
   "metadata": {},
   "outputs": [],
   "source": [
    "import pandas as pd\n",
    "import cufflinks as cf\n",
    "cf.go_offline()\n",
    "#olympics = pd.read_csv('./olympics.csv')\n",
    "olympics = pd.read_csv('https://raw.githubusercontent.com/callysto/online-courses/master/CallystoAndDataScience/olympics.csv')"
   ]
  },
  {
   "cell_type": "code",
   "execution_count": null,
   "metadata": {},
   "outputs": [],
   "source": [
    "athletes_by_year = olympics.groupby([\"Year\"]).size().iplot(title='Number of Athletes per Year (Olympics)',yTitle='Number of Athletes',xTitle='Year')"
   ]
  },
  {
   "cell_type": "code",
   "execution_count": null,
   "metadata": {},
   "outputs": [],
   "source": [
    "olympics[olympics['Season']=='Winter'].groupby([\"Year\"]).size().iplot(title='Number of Athletes per Year (Winter Olympics)',yTitle='Number of Athletes',xTitle='Year')"
   ]
  },
  {
   "cell_type": "code",
   "execution_count": null,
   "metadata": {},
   "outputs": [],
   "source": [
    "medals = olympics.dropna(subset=[\"Medal\"])\n",
    "medals_winter = medals[medals[\"Season\"]==\"Winter\"]\n",
    "medals_winter.groupby('region').count().sort_values('Medal',ascending=False)['Medal'].head(20).iplot(kind='bar',title='Medals per Country (Winter Olympics, Top 20 Countries)',yTitle='Number of Medals')"
   ]
  },
  {
   "cell_type": "code",
   "execution_count": null,
   "metadata": {},
   "outputs": [],
   "source": [
    "canada_medals = medals[medals['region']=='Canada']\n",
    "canada_medals.groupby('Sport').count().sort_values('Medal',ascending=False)['Medal'].iplot(kind='bar',title='Canadian Olympic Medals per Sport')"
   ]
  },
  {
   "cell_type": "code",
   "execution_count": null,
   "metadata": {},
   "outputs": [],
   "source": [
    "df_canada_medals = pd.DataFrame(canada_medals.groupby('Sport').count().sort_values('Medal',ascending=False)['Medal'])\n",
    "df_canada_medals.rename(columns={'Medal':'Medals'}, inplace=True)\n",
    "df_canada_medals"
   ]
  },
  {
   "cell_type": "code",
   "execution_count": null,
   "metadata": {},
   "outputs": [],
   "source": [
    "medals_per_athlete = pd.DataFrame(medals.groupby('Name').count().sort_values('Medal',ascending=False).head(20)['Medal'])\n",
    "medals_per_athlete.merge(olympics[['Name','region']].drop_duplicates('Name'),on='Name').iplot(kind='barh',title='Number of Olympic Medals per Athlete (Top 20)',y='Medal',x='Name',xTitle='Number of Medals',text='region')"
   ]
  }
 ],
 "metadata": {
  "kernelspec": {
   "display_name": "Python 3",
   "language": "python",
   "name": "python3"
  },
  "language_info": {
   "codemirror_mode": {
    "name": "ipython",
    "version": 3
   },
   "file_extension": ".py",
   "mimetype": "text/x-python",
   "name": "python",
   "nbconvert_exporter": "python",
   "pygments_lexer": "ipython3",
   "version": "3.7.6"
  }
 },
 "nbformat": 4,
 "nbformat_minor": 4
}
