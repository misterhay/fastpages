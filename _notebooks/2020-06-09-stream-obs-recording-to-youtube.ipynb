{
 "cells": [
  {
   "cell_type": "markdown",
   "metadata": {},
   "source": [
    "# Streaming OBS Recordings to YouTube\n",
    "\n",
    "- toc: false \n",
    "- badges: true\n",
    "- comments: true\n",
    "- categories: [jupyter]\n",
    "- author: "
   ]
  },
  {
   "cell_type": "markdown",
   "metadata": {},
   "source": [
    "## Setting Up\n",
    "\n",
    "Currently [OBS Studio](https://obsproject.com) can only stream to a single service, such as [Facebook](https://www.facebook.com/business/help/1968707740106188?id=648321075955172) or [YouTube](https://support.google.com/youtube/answer/2907883), but we are going to set up a way to stream to another service at the same time. Assuming that you are already comfortable streaming to Facebook, YouTube will be our second service.\n",
    "\n",
    "You'll need to install [FFmpeg](https://ffmpeg.org) and [Python 3](https://www.python.org/downloads).\n",
    "\n",
    "The following Python code can be run from a Jupyter notebook, or saved as something like `second_stream.py` and run from there.\n",
    "\n",
    "Replace `xxxx-xxxx-xxxx-xxxx` with your stream key from [YouTube Studio](https://studio.youtube.com/), and `/home/username/Videos` with the [path to the folder where OBS records your videos](https://www.obs.live/articles/2019/3/4/where-does-obs-save-recordings). You may also need to include the `ffmpeg_path`.\n",
    "\n",
    "This code finds the most recent file in your OBS recordings folder and streams that file to YouTube. You may want to enable the setting \"Automatically record when streaming\" in OBS, otherwise you'll need to click \"Start Streaming\" and \"Start Recording\" each time.\n",
    "\n",
    "Start recording in OBS then run the code, and it should start streaming the recording to YouTube without interfering with your primary stream. You will, of course, need enough upload bandwidth for both streams.\n",
    "\n",
    "Potentially you could have another copy of this Python script running to streams the recording to a third service, such as Twitch."
   ]
  },
  {
   "cell_type": "code",
   "execution_count": null,
   "metadata": {},
   "outputs": [],
   "source": [
    "#! /usr/bin/env python3\n",
    "\n",
    "stream_key = 'xxxx-xxxx-xxxx-xxxx'\n",
    "recording_path = '/home/username/Videos'\n",
    "ffmpeg_path = ''\n",
    "\n",
    "print(\"If you haven't started the recording already, press Ctrl-c to cancel this...\")\n",
    "from datetime import datetime\n",
    "from pathlib import Path\n",
    "import os\n",
    "\n",
    "# find the newest file in the folder\n",
    "p = Path(recording_path)\n",
    "time, newest_file = max((f.stat().st_mtime, f) for f in p.iterdir())\n",
    "\n",
    "youtube_server = 'rtmp://a.rtmp.youtube.com/live2/'\n",
    "command = ffmpeg_path+'ffmpeg -re -i '+str(newest_file)+' -acodec copy -vcodec copy -f flv '+youtube_server+stream_key\n",
    "os.system(command)"
   ]
  },
  {
   "cell_type": "markdown",
   "metadata": {},
   "source": [
    "Hopefully that helps get you started with secondary streams from OBS Studio. Let me know if any of this doesn't work for you."
   ]
  }
 ],
 "metadata": {
  "kernelspec": {
   "display_name": "Python 3",
   "language": "python",
   "name": "python3"
  },
  "language_info": {
   "codemirror_mode": {
    "name": "ipython",
    "version": 3
   },
   "file_extension": ".py",
   "mimetype": "text/x-python",
   "name": "python",
   "nbconvert_exporter": "python",
   "pygments_lexer": "ipython3",
   "version": "3.7.6"
  },
  "varInspector": {
   "cols": {
    "lenName": 16,
    "lenType": 16,
    "lenVar": 40
   },
   "kernels_config": {
    "python": {
     "delete_cmd_postfix": "",
     "delete_cmd_prefix": "del ",
     "library": "var_list.py",
     "varRefreshCmd": "print(var_dic_list())"
    },
    "r": {
     "delete_cmd_postfix": ") ",
     "delete_cmd_prefix": "rm(",
     "library": "var_list.r",
     "varRefreshCmd": "cat(var_dic_list()) "
    }
   },
   "types_to_exclude": [
    "module",
    "function",
    "builtin_function_or_method",
    "instance",
    "_Feature"
   ],
   "window_display": false
  }
 },
 "nbformat": 4,
 "nbformat_minor": 4
}
